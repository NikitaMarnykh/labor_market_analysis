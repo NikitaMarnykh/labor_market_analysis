{
  "nbformat": 4,
  "nbformat_minor": 0,
  "metadata": {
    "colab": {
      "provenance": [],
      "collapsed_sections": [
        "WKpooC4ZGSPp",
        "IHfWX8WHHiYg",
        "BQBuAPeKTFgR",
        "7vESSv4unDgK",
        "WUgePk1-uNhu",
        "PkkbE3Z4yFju",
        "f0zdI5en1vCh",
        "aRfcHc4hHbeR",
        "n1roLuJKIwYs",
        "_HKNebP8K_MH"
      ],
      "toc_visible": true,
      "authorship_tag": "ABX9TyMa7iaFf3ueJTGXMygwOIi4",
      "include_colab_link": true
    },
    "kernelspec": {
      "name": "python3",
      "display_name": "Python 3"
    },
    "language_info": {
      "name": "python"
    }
  },
  "cells": [
    {
      "cell_type": "markdown",
      "metadata": {
        "id": "view-in-github",
        "colab_type": "text"
      },
      "source": [
        "<a href=\"https://colab.research.google.com/github/NikitaMarnykh/labor_market_analysis/blob/main/%D0%9C%D0%B0%D1%80%D0%BD%D1%8B%D1%85_%D0%9D_%D0%92_%D0%B8_%D0%9E%D0%B1%D0%BE%D1%80%D0%BE%D1%82%D0%BE%D0%B2_%D0%9C_%D0%92_%D0%B0%D0%BD%D0%B0%D0%BB%D0%B8%D0%B7_%D1%80%D1%8B%D0%BD%D0%BA%D0%B0_%D1%82%D1%80%D1%83%D0%B4%D0%B0_advanced_plus.ipynb\" target=\"_parent\"><img src=\"https://colab.research.google.com/assets/colab-badge.svg\" alt=\"Open In Colab\"/></a>"
      ]
    },
    {
      "cell_type": "markdown",
      "metadata": {
        "id": "WjyKIj3rE6L_"
      },
      "source": [
        "## 1. Постановка задачи и описание датасета"
      ]
    },
    {
      "cell_type": "markdown",
      "metadata": {
        "id": "u0I8z58gFLod"
      },
      "source": [
        "Перед Департаментом труда и занятости населения Томской области стоит задача\n",
        "– в течение полугода разработать эффективные стратегии управления\n",
        "персоналом, образования и подготовки кадров в целях увеличения уровня\n",
        "занятости в регионе на 2 процентных пункта. Для этого специалистам необходимо\n",
        "лучше понять особенности функционирования рынка труда, а именно: в какие\n",
        "города области и какие специалисты требуются, какими ключевыми навыками они\n",
        "должны обладать, какие условия труда предлагают работодатели, есть ли\n",
        "возможность трудоустроиться соискателям с инвалидностью.\n",
        "Специалистами Роснавыка были представлены датасеты с выгруженной\n",
        "информацией по региону.\n",
        "\n",
        "**Задачи:**\n",
        "\n",
        "  - Проанализируйте ключевые навыки в самой популярной сфере/сферах в регионе и выявить значимые взаимосвязи между признаками (на какие навыки и в каких городах наибольший спрос, есть ли взаимосвязь между навыками и требованиями к соискателям, как тот или иной навык влияет на условия труда) (датасет hh_hard.csv)\n",
        "\n",
        "  - построить регрессионную модель для предсказания уровня заработной платы.\n",
        "\n",
        "  - Представьте аналитический отчет содержащий выводы и рекомендации для Заказчика, которые помогут ему для решения его бизнес-задач.\n",
        "\n",
        "**Исходные данные:**\n",
        "\n",
        "  - идентификатор вакансии (id)\n",
        "\n",
        "  - наименование вакансии (name)\n",
        "\n",
        "  - профессиональная роль (professional roles)\n",
        "\n",
        "  - регион (area), в т.ч. страна (country), регион (region), округ (district), город(city)\n",
        "\n",
        "  - заработная плата (salary), в т.ч. минимальная заработная плата (salary_from),\n",
        "максимальная заработная плата (salary_to)\n",
        "\n",
        "  - опыт работы (experience): 0 – без опыта, 1-3 – от 1 до 3 лет, 3-6 – от 3 до 6 лет, 6- - от 6 лет\n",
        "\n",
        "  - график работы (schedule): full_day – полный день, remote – удаленная работа,\n",
        "  flexible – гибкий график, shift – сменный график, labor - вахтовый метод\n",
        "\n",
        "  - тип занятости (employment): full – полная занятость, part – частичная\n",
        "занятость, project – проектная работа, probation - стажировка\n",
        "\n",
        "  - наименование работодателя (employer)\n",
        "\n",
        "  - доступна ли вакансия для соискателей с инвалидностью (accept_handicapped): True – доступна, False - недоступна\n",
        "\n",
        "  - ключевые навыки (key_skills)\n",
        "\n",
        "**Датасет в формате csv по ссылке:**\n",
        "\n",
        "  - https://disk.yandex.ru/d/OYP_n5bYz_ExzA\n"
      ]
    },
    {
      "cell_type": "markdown",
      "metadata": {
        "id": "WKpooC4ZGSPp"
      },
      "source": [
        "## 2. Установка и подключение зависимостей"
      ]
    },
    {
      "cell_type": "markdown",
      "source": [
        "Устанавливаем все необходимые зависимости"
      ],
      "metadata": {
        "id": "wbYT30pFm7an"
      }
    },
    {
      "cell_type": "code",
      "source": [
        "!pip install numpy\n",
        "!pip install matplotlib\n",
        "!pip install pandas\n",
        "!pip install scipy\n",
        "!pip install seaborn\n",
        "!pip install statsmodels\n",
        "!pip install scikit-learn"
      ],
      "metadata": {
        "colab": {
          "base_uri": "https://localhost:8080/"
        },
        "id": "6HM5mf4Pm6Po",
        "outputId": "80fccdb0-937c-47a7-ceda-fce0a2486ed8"
      },
      "execution_count": null,
      "outputs": [
        {
          "output_type": "stream",
          "name": "stdout",
          "text": [
            "Requirement already satisfied: numpy in /usr/local/lib/python3.11/dist-packages (2.0.2)\n",
            "Requirement already satisfied: matplotlib in /usr/local/lib/python3.11/dist-packages (3.10.0)\n",
            "Requirement already satisfied: contourpy>=1.0.1 in /usr/local/lib/python3.11/dist-packages (from matplotlib) (1.3.2)\n",
            "Requirement already satisfied: cycler>=0.10 in /usr/local/lib/python3.11/dist-packages (from matplotlib) (0.12.1)\n",
            "Requirement already satisfied: fonttools>=4.22.0 in /usr/local/lib/python3.11/dist-packages (from matplotlib) (4.58.1)\n",
            "Requirement already satisfied: kiwisolver>=1.3.1 in /usr/local/lib/python3.11/dist-packages (from matplotlib) (1.4.8)\n",
            "Requirement already satisfied: numpy>=1.23 in /usr/local/lib/python3.11/dist-packages (from matplotlib) (2.0.2)\n",
            "Requirement already satisfied: packaging>=20.0 in /usr/local/lib/python3.11/dist-packages (from matplotlib) (24.2)\n",
            "Requirement already satisfied: pillow>=8 in /usr/local/lib/python3.11/dist-packages (from matplotlib) (11.2.1)\n",
            "Requirement already satisfied: pyparsing>=2.3.1 in /usr/local/lib/python3.11/dist-packages (from matplotlib) (3.2.3)\n",
            "Requirement already satisfied: python-dateutil>=2.7 in /usr/local/lib/python3.11/dist-packages (from matplotlib) (2.9.0.post0)\n",
            "Requirement already satisfied: six>=1.5 in /usr/local/lib/python3.11/dist-packages (from python-dateutil>=2.7->matplotlib) (1.17.0)\n",
            "Requirement already satisfied: pandas in /usr/local/lib/python3.11/dist-packages (2.2.2)\n",
            "Requirement already satisfied: numpy>=1.23.2 in /usr/local/lib/python3.11/dist-packages (from pandas) (2.0.2)\n",
            "Requirement already satisfied: python-dateutil>=2.8.2 in /usr/local/lib/python3.11/dist-packages (from pandas) (2.9.0.post0)\n",
            "Requirement already satisfied: pytz>=2020.1 in /usr/local/lib/python3.11/dist-packages (from pandas) (2025.2)\n",
            "Requirement already satisfied: tzdata>=2022.7 in /usr/local/lib/python3.11/dist-packages (from pandas) (2025.2)\n",
            "Requirement already satisfied: six>=1.5 in /usr/local/lib/python3.11/dist-packages (from python-dateutil>=2.8.2->pandas) (1.17.0)\n",
            "Requirement already satisfied: scipy in /usr/local/lib/python3.11/dist-packages (1.15.3)\n",
            "Requirement already satisfied: numpy<2.5,>=1.23.5 in /usr/local/lib/python3.11/dist-packages (from scipy) (2.0.2)\n",
            "Requirement already satisfied: seaborn in /usr/local/lib/python3.11/dist-packages (0.13.2)\n",
            "Requirement already satisfied: numpy!=1.24.0,>=1.20 in /usr/local/lib/python3.11/dist-packages (from seaborn) (2.0.2)\n",
            "Requirement already satisfied: pandas>=1.2 in /usr/local/lib/python3.11/dist-packages (from seaborn) (2.2.2)\n",
            "Requirement already satisfied: matplotlib!=3.6.1,>=3.4 in /usr/local/lib/python3.11/dist-packages (from seaborn) (3.10.0)\n",
            "Requirement already satisfied: contourpy>=1.0.1 in /usr/local/lib/python3.11/dist-packages (from matplotlib!=3.6.1,>=3.4->seaborn) (1.3.2)\n",
            "Requirement already satisfied: cycler>=0.10 in /usr/local/lib/python3.11/dist-packages (from matplotlib!=3.6.1,>=3.4->seaborn) (0.12.1)\n",
            "Requirement already satisfied: fonttools>=4.22.0 in /usr/local/lib/python3.11/dist-packages (from matplotlib!=3.6.1,>=3.4->seaborn) (4.58.1)\n",
            "Requirement already satisfied: kiwisolver>=1.3.1 in /usr/local/lib/python3.11/dist-packages (from matplotlib!=3.6.1,>=3.4->seaborn) (1.4.8)\n",
            "Requirement already satisfied: packaging>=20.0 in /usr/local/lib/python3.11/dist-packages (from matplotlib!=3.6.1,>=3.4->seaborn) (24.2)\n",
            "Requirement already satisfied: pillow>=8 in /usr/local/lib/python3.11/dist-packages (from matplotlib!=3.6.1,>=3.4->seaborn) (11.2.1)\n",
            "Requirement already satisfied: pyparsing>=2.3.1 in /usr/local/lib/python3.11/dist-packages (from matplotlib!=3.6.1,>=3.4->seaborn) (3.2.3)\n",
            "Requirement already satisfied: python-dateutil>=2.7 in /usr/local/lib/python3.11/dist-packages (from matplotlib!=3.6.1,>=3.4->seaborn) (2.9.0.post0)\n",
            "Requirement already satisfied: pytz>=2020.1 in /usr/local/lib/python3.11/dist-packages (from pandas>=1.2->seaborn) (2025.2)\n",
            "Requirement already satisfied: tzdata>=2022.7 in /usr/local/lib/python3.11/dist-packages (from pandas>=1.2->seaborn) (2025.2)\n",
            "Requirement already satisfied: six>=1.5 in /usr/local/lib/python3.11/dist-packages (from python-dateutil>=2.7->matplotlib!=3.6.1,>=3.4->seaborn) (1.17.0)\n",
            "Requirement already satisfied: statsmodels in /usr/local/lib/python3.11/dist-packages (0.14.4)\n",
            "Requirement already satisfied: numpy<3,>=1.22.3 in /usr/local/lib/python3.11/dist-packages (from statsmodels) (2.0.2)\n",
            "Requirement already satisfied: scipy!=1.9.2,>=1.8 in /usr/local/lib/python3.11/dist-packages (from statsmodels) (1.15.3)\n",
            "Requirement already satisfied: pandas!=2.1.0,>=1.4 in /usr/local/lib/python3.11/dist-packages (from statsmodels) (2.2.2)\n",
            "Requirement already satisfied: patsy>=0.5.6 in /usr/local/lib/python3.11/dist-packages (from statsmodels) (1.0.1)\n",
            "Requirement already satisfied: packaging>=21.3 in /usr/local/lib/python3.11/dist-packages (from statsmodels) (24.2)\n",
            "Requirement already satisfied: python-dateutil>=2.8.2 in /usr/local/lib/python3.11/dist-packages (from pandas!=2.1.0,>=1.4->statsmodels) (2.9.0.post0)\n",
            "Requirement already satisfied: pytz>=2020.1 in /usr/local/lib/python3.11/dist-packages (from pandas!=2.1.0,>=1.4->statsmodels) (2025.2)\n",
            "Requirement already satisfied: tzdata>=2022.7 in /usr/local/lib/python3.11/dist-packages (from pandas!=2.1.0,>=1.4->statsmodels) (2025.2)\n",
            "Requirement already satisfied: six>=1.5 in /usr/local/lib/python3.11/dist-packages (from python-dateutil>=2.8.2->pandas!=2.1.0,>=1.4->statsmodels) (1.17.0)\n",
            "Requirement already satisfied: scikit-learn in /usr/local/lib/python3.11/dist-packages (1.6.1)\n",
            "Requirement already satisfied: numpy>=1.19.5 in /usr/local/lib/python3.11/dist-packages (from scikit-learn) (2.0.2)\n",
            "Requirement already satisfied: scipy>=1.6.0 in /usr/local/lib/python3.11/dist-packages (from scikit-learn) (1.15.3)\n",
            "Requirement already satisfied: joblib>=1.2.0 in /usr/local/lib/python3.11/dist-packages (from scikit-learn) (1.5.1)\n",
            "Requirement already satisfied: threadpoolctl>=3.1.0 in /usr/local/lib/python3.11/dist-packages (from scikit-learn) (3.6.0)\n"
          ]
        }
      ]
    },
    {
      "cell_type": "markdown",
      "metadata": {
        "id": "MygCIarB6USw"
      },
      "source": [
        "Подключаем все необходимые зависимости"
      ]
    },
    {
      "cell_type": "code",
      "execution_count": null,
      "metadata": {
        "id": "FQ0te3zv6lPl"
      },
      "outputs": [],
      "source": [
        "import numpy as np\n",
        "import pandas as pd\n",
        "import matplotlib.pyplot as plt\n",
        "import scipy.stats as stats\n",
        "import seaborn as sns"
      ]
    },
    {
      "cell_type": "markdown",
      "source": [
        "Подгружаем репозиторий для работы с ним"
      ],
      "metadata": {
        "id": "L8zMgwXYnjIC"
      }
    },
    {
      "cell_type": "code",
      "source": [
        "!git clone https://github.com/NikitaMarnykh/labor_market_analysis"
      ],
      "metadata": {
        "id": "g6n4Z8henp8c",
        "colab": {
          "base_uri": "https://localhost:8080/"
        },
        "outputId": "14fc1fd8-2dda-4ec5-b1fb-c2311a41a849"
      },
      "execution_count": null,
      "outputs": [
        {
          "output_type": "stream",
          "name": "stdout",
          "text": [
            "Cloning into 'labor_market_analysis'...\n",
            "remote: Enumerating objects: 14, done.\u001b[K\n",
            "remote: Counting objects: 100% (14/14), done.\u001b[K\n",
            "remote: Compressing objects: 100% (11/11), done.\u001b[K\n",
            "remote: Total 14 (delta 2), reused 9 (delta 0), pack-reused 0 (from 0)\u001b[K\n",
            "Receiving objects: 100% (14/14), 1.40 MiB | 4.36 MiB/s, done.\n",
            "Resolving deltas: 100% (2/2), done.\n"
          ]
        }
      ]
    },
    {
      "cell_type": "markdown",
      "source": [
        "Перейдём в установленный репозиторий"
      ],
      "metadata": {
        "id": "S-1oIn_kt8rW"
      }
    },
    {
      "cell_type": "code",
      "source": [
        "%cd labor_market_analysis/"
      ],
      "metadata": {
        "colab": {
          "base_uri": "https://localhost:8080/"
        },
        "id": "OHQDqjwhuANU",
        "outputId": "1ee7c98a-274c-46b1-b20f-4d8a504a7a03"
      },
      "execution_count": null,
      "outputs": [
        {
          "output_type": "stream",
          "name": "stdout",
          "text": [
            "/content/labor_market_analysis\n"
          ]
        }
      ]
    },
    {
      "cell_type": "markdown",
      "metadata": {
        "id": "IHfWX8WHHiYg"
      },
      "source": [
        "## 3. Первичный обзор датасета. Оценка размеров датасета, наличия дубликатов и пропусков"
      ]
    },
    {
      "cell_type": "markdown",
      "metadata": {
        "id": "o1wm6iyJ-ots"
      },
      "source": [
        "Сохраняем датасет в переменную"
      ]
    },
    {
      "cell_type": "code",
      "execution_count": null,
      "metadata": {
        "id": "9BpR3TE28OGq"
      },
      "outputs": [],
      "source": [
        "dataset = pd.read_csv('hh_hard.csv',\n",
        "                      na_values=['NA', 'N/A', 'null', 'missing', '-', '?', '...'],\n",
        "                      keep_default_na=True,\n",
        "                      na_filter=True)"
      ]
    },
    {
      "cell_type": "markdown",
      "metadata": {
        "id": "U4bsEGAQAW_F"
      },
      "source": [
        "Проведём обзор содержимого таблицы"
      ]
    },
    {
      "cell_type": "code",
      "execution_count": null,
      "metadata": {
        "colab": {
          "base_uri": "https://localhost:8080/"
        },
        "id": "r361lLc4ASeq",
        "outputId": "8d5cc78a-444d-43fd-f464-bcde9217b285"
      },
      "outputs": [
        {
          "output_type": "execute_result",
          "data": {
            "text/plain": [
              "          id                                               name  \\\n",
              "0   72121675  Инженер-конструктор (в г. Электрогорск, Москов...   \n",
              "1   72121730                Специалист по доставке (Подработка)   \n",
              "2   72122239   Удаленный оператор ПК / сотрудник на ввод данных   \n",
              "3   72123219                                Повар линии раздачи   \n",
              "4   72123390             Повар в магазин SPAR (ул.Киевская 139)   \n",
              "5   72124633                                     Дефектоскопист   \n",
              "6   72124864                                 Водитель-кладовщик   \n",
              "7   72125286                                      Электромонтер   \n",
              "8   72125786                               Менеджер по продажам   \n",
              "9   72125979                               Менеджер по продажам   \n",
              "10  72127032       Ведущий специалист обработки корреспонденции   \n",
              "11  72127862                            Ведущий инженер-сметчик   \n",
              "12  72127872                            Ведущий инженер-сметчик   \n",
              "13  72127856                            Ведущий инженер-сметчик   \n",
              "14  72127847                            Ведущий инженер-сметчик   \n",
              "\n",
              "                                   professional_roles experience  schedule  \\\n",
              "0          Инженер-конструктор, инженер-проектировщик        1-3  full_day   \n",
              "1                                              Курьер          0     shift   \n",
              "2   Менеджер по продажам, менеджер по работе с кли...          0    remote   \n",
              "3                           Официант, бармен, бариста          0     shift   \n",
              "4                             Повар, пекарь, кондитер          0  full_day   \n",
              "5                                            Технолог        1-3  full_day   \n",
              "6                                            Водитель          0  full_day   \n",
              "7                                    Электромонтажник        3-6     labor   \n",
              "8   Менеджер по продажам, менеджер по работе с кли...        1-3  full_day   \n",
              "9                               Агент по недвижимости          0  full_day   \n",
              "10                      Делопроизводитель, архивариус          0  full_day   \n",
              "11                       Инженер ПТО, инженер-сметчик        1-3  full_day   \n",
              "12                       Инженер ПТО, инженер-сметчик        1-3  full_day   \n",
              "13                       Инженер ПТО, инженер-сметчик        1-3  full_day   \n",
              "14                       Инженер ПТО, инженер-сметчик        1-3  full_day   \n",
              "\n",
              "   employment                  employer  accept_handicapped  \\\n",
              "0        full       Стройкомплектсервис               False   \n",
              "1        part                    Квазар               False   \n",
              "2        part              Staff-Linear                True   \n",
              "3        full                 AYS GROUP               False   \n",
              "4        full     ЛАМА, Группа компаний               False   \n",
              "5        full             Деталь Проект               False   \n",
              "6        full         Автоцентр АВТОГИК               False   \n",
              "7        full               Эко-Системы               False   \n",
              "8        full  Мототека, филиал г.Томск               False   \n",
              "9        full                   ДомПлюс               False   \n",
              "10       full                  МТС Банк               False   \n",
              "11       full     ОГКУ Облстройзаказчик               False   \n",
              "12       full     ОГКУ Облстройзаказчик               False   \n",
              "13       full     ОГКУ Облстройзаказчик               False   \n",
              "14       full     ОГКУ Облстройзаказчик               False   \n",
              "\n",
              "                                           key_skills  \\\n",
              "0   ['ANSYS', 'AutoCAD', 'Autodesk Inventor', 'Sol...   \n",
              "1                                  ['Грамотная речь']   \n",
              "2             ['Грамотная речь', 'Базовые знания ПК']   \n",
              "3   ['Грамотная речь', 'Грамотная речь', 'Работа в...   \n",
              "4   ['Коммуникативная грамотность', 'Обучаемость и...   \n",
              "5   ['Ведение документооборота', 'Базовые знания П...   \n",
              "6   ['Базовые знания ПК', 'Коммуникативная грамотн...   \n",
              "7   ['Монтаж металлоконструкций', 'Выполнение стро...   \n",
              "8   ['Продажи', 'Коммуникативная грамотность', 'Гр...   \n",
              "9   ['Продажи', 'Продажи', 'Коммуникативная грамот...   \n",
              "10  ['Microsoft Outlook', 'Microsoft PowerPoint', ...   \n",
              "11  ['ГРАНД-Смета', 'Ведение документооборота', 'В...   \n",
              "12  ['ГРАНД-Смета', 'Ведение документооборота', 'В...   \n",
              "13  ['ГРАНД-Смета', 'Ведение документооборота', 'В...   \n",
              "14  ['ГРАНД-Смета', 'Ведение документооборота', 'В...   \n",
              "\n",
              "                                                 area  \\\n",
              "0   {\"country\":\"Россия\",\"region\":\"Томская область\"...   \n",
              "1   {\"country\":\"Россия\",\"region\":\"Томская область\"...   \n",
              "2   {\"country\":\"Россия\",\"region\":\"Томская область\"...   \n",
              "3   {\"country\":\"Россия\",\"region\":\"Томская область\"...   \n",
              "4   {\"country\":\"Россия\",\"region\":\"Томская область\"...   \n",
              "5   {\"country\":\"Россия\",\"region\":\"Томская область\"...   \n",
              "6   {\"country\":\"Россия\",\"region\":\"Томская область\"...   \n",
              "7   {\"country\":\"Россия\",\"region\":\"Томская область\"...   \n",
              "8   {\"country\":\"Россия\",\"region\":\"Томская область\"...   \n",
              "9   {\"country\":\"Россия\",\"region\":\"Томская область\"...   \n",
              "10  {\"country\":\"Россия\",\"region\":\"Томская область\"...   \n",
              "11  {\"country\":\"Россия\",\"region\":\"Томская область\"...   \n",
              "12  {\"country\":\"Россия\",\"region\":\"Томская область\"...   \n",
              "13  {\"country\":\"Россия\",\"region\":\"Томская область\"...   \n",
              "14  {\"country\":\"Россия\",\"region\":\"Томская область\"...   \n",
              "\n",
              "                                           salary  \n",
              "0    {\"salary_from\":75000.0,\"salary_to\":100000.0}  \n",
              "1    {\"salary_from\":60000.0,\"salary_to\":110000.0}  \n",
              "2     {\"salary_from\":25000.0,\"salary_to\":50000.0}  \n",
              "3        {\"salary_from\":null,\"salary_to\":35000.0}  \n",
              "4     {\"salary_from\":28000.0,\"salary_to\":36000.0}  \n",
              "5     {\"salary_from\":60000.0,\"salary_to\":60000.0}  \n",
              "6     {\"salary_from\":35000.0,\"salary_to\":85000.0}  \n",
              "7   {\"salary_from\":100000.0,\"salary_to\":150000.0}  \n",
              "8     {\"salary_from\":40000.0,\"salary_to\":95000.0}  \n",
              "9        {\"salary_from\":80000.0,\"salary_to\":null}  \n",
              "10          {\"salary_from\":null,\"salary_to\":null}  \n",
              "11    {\"salary_from\":42760.0,\"salary_to\":55000.0}  \n",
              "12    {\"salary_from\":42760.0,\"salary_to\":55000.0}  \n",
              "13    {\"salary_from\":42760.0,\"salary_to\":55000.0}  \n",
              "14    {\"salary_from\":42760.0,\"salary_to\":55000.0}  "
            ],
            "text/html": [
              "\n",
              "  <div id=\"df-8f720896-cf29-4197-bec3-ea4b0396c25f\" class=\"colab-df-container\">\n",
              "    <div>\n",
              "<style scoped>\n",
              "    .dataframe tbody tr th:only-of-type {\n",
              "        vertical-align: middle;\n",
              "    }\n",
              "\n",
              "    .dataframe tbody tr th {\n",
              "        vertical-align: top;\n",
              "    }\n",
              "\n",
              "    .dataframe thead th {\n",
              "        text-align: right;\n",
              "    }\n",
              "</style>\n",
              "<table border=\"1\" class=\"dataframe\">\n",
              "  <thead>\n",
              "    <tr style=\"text-align: right;\">\n",
              "      <th></th>\n",
              "      <th>id</th>\n",
              "      <th>name</th>\n",
              "      <th>professional_roles</th>\n",
              "      <th>experience</th>\n",
              "      <th>schedule</th>\n",
              "      <th>employment</th>\n",
              "      <th>employer</th>\n",
              "      <th>accept_handicapped</th>\n",
              "      <th>key_skills</th>\n",
              "      <th>area</th>\n",
              "      <th>salary</th>\n",
              "    </tr>\n",
              "  </thead>\n",
              "  <tbody>\n",
              "    <tr>\n",
              "      <th>0</th>\n",
              "      <td>72121675</td>\n",
              "      <td>Инженер-конструктор (в г. Электрогорск, Москов...</td>\n",
              "      <td>Инженер-конструктор, инженер-проектировщик</td>\n",
              "      <td>1-3</td>\n",
              "      <td>full_day</td>\n",
              "      <td>full</td>\n",
              "      <td>Стройкомплектсервис</td>\n",
              "      <td>False</td>\n",
              "      <td>['ANSYS', 'AutoCAD', 'Autodesk Inventor', 'Sol...</td>\n",
              "      <td>{\"country\":\"Россия\",\"region\":\"Томская область\"...</td>\n",
              "      <td>{\"salary_from\":75000.0,\"salary_to\":100000.0}</td>\n",
              "    </tr>\n",
              "    <tr>\n",
              "      <th>1</th>\n",
              "      <td>72121730</td>\n",
              "      <td>Специалист по доставке (Подработка)</td>\n",
              "      <td>Курьер</td>\n",
              "      <td>0</td>\n",
              "      <td>shift</td>\n",
              "      <td>part</td>\n",
              "      <td>Квазар</td>\n",
              "      <td>False</td>\n",
              "      <td>['Грамотная речь']</td>\n",
              "      <td>{\"country\":\"Россия\",\"region\":\"Томская область\"...</td>\n",
              "      <td>{\"salary_from\":60000.0,\"salary_to\":110000.0}</td>\n",
              "    </tr>\n",
              "    <tr>\n",
              "      <th>2</th>\n",
              "      <td>72122239</td>\n",
              "      <td>Удаленный оператор ПК / сотрудник на ввод данных</td>\n",
              "      <td>Менеджер по продажам, менеджер по работе с кли...</td>\n",
              "      <td>0</td>\n",
              "      <td>remote</td>\n",
              "      <td>part</td>\n",
              "      <td>Staff-Linear</td>\n",
              "      <td>True</td>\n",
              "      <td>['Грамотная речь', 'Базовые знания ПК']</td>\n",
              "      <td>{\"country\":\"Россия\",\"region\":\"Томская область\"...</td>\n",
              "      <td>{\"salary_from\":25000.0,\"salary_to\":50000.0}</td>\n",
              "    </tr>\n",
              "    <tr>\n",
              "      <th>3</th>\n",
              "      <td>72123219</td>\n",
              "      <td>Повар линии раздачи</td>\n",
              "      <td>Официант, бармен, бариста</td>\n",
              "      <td>0</td>\n",
              "      <td>shift</td>\n",
              "      <td>full</td>\n",
              "      <td>AYS GROUP</td>\n",
              "      <td>False</td>\n",
              "      <td>['Грамотная речь', 'Грамотная речь', 'Работа в...</td>\n",
              "      <td>{\"country\":\"Россия\",\"region\":\"Томская область\"...</td>\n",
              "      <td>{\"salary_from\":null,\"salary_to\":35000.0}</td>\n",
              "    </tr>\n",
              "    <tr>\n",
              "      <th>4</th>\n",
              "      <td>72123390</td>\n",
              "      <td>Повар в магазин SPAR (ул.Киевская 139)</td>\n",
              "      <td>Повар, пекарь, кондитер</td>\n",
              "      <td>0</td>\n",
              "      <td>full_day</td>\n",
              "      <td>full</td>\n",
              "      <td>ЛАМА, Группа компаний</td>\n",
              "      <td>False</td>\n",
              "      <td>['Коммуникативная грамотность', 'Обучаемость и...</td>\n",
              "      <td>{\"country\":\"Россия\",\"region\":\"Томская область\"...</td>\n",
              "      <td>{\"salary_from\":28000.0,\"salary_to\":36000.0}</td>\n",
              "    </tr>\n",
              "    <tr>\n",
              "      <th>5</th>\n",
              "      <td>72124633</td>\n",
              "      <td>Дефектоскопист</td>\n",
              "      <td>Технолог</td>\n",
              "      <td>1-3</td>\n",
              "      <td>full_day</td>\n",
              "      <td>full</td>\n",
              "      <td>Деталь Проект</td>\n",
              "      <td>False</td>\n",
              "      <td>['Ведение документооборота', 'Базовые знания П...</td>\n",
              "      <td>{\"country\":\"Россия\",\"region\":\"Томская область\"...</td>\n",
              "      <td>{\"salary_from\":60000.0,\"salary_to\":60000.0}</td>\n",
              "    </tr>\n",
              "    <tr>\n",
              "      <th>6</th>\n",
              "      <td>72124864</td>\n",
              "      <td>Водитель-кладовщик</td>\n",
              "      <td>Водитель</td>\n",
              "      <td>0</td>\n",
              "      <td>full_day</td>\n",
              "      <td>full</td>\n",
              "      <td>Автоцентр АВТОГИК</td>\n",
              "      <td>False</td>\n",
              "      <td>['Базовые знания ПК', 'Коммуникативная грамотн...</td>\n",
              "      <td>{\"country\":\"Россия\",\"region\":\"Томская область\"...</td>\n",
              "      <td>{\"salary_from\":35000.0,\"salary_to\":85000.0}</td>\n",
              "    </tr>\n",
              "    <tr>\n",
              "      <th>7</th>\n",
              "      <td>72125286</td>\n",
              "      <td>Электромонтер</td>\n",
              "      <td>Электромонтажник</td>\n",
              "      <td>3-6</td>\n",
              "      <td>labor</td>\n",
              "      <td>full</td>\n",
              "      <td>Эко-Системы</td>\n",
              "      <td>False</td>\n",
              "      <td>['Монтаж металлоконструкций', 'Выполнение стро...</td>\n",
              "      <td>{\"country\":\"Россия\",\"region\":\"Томская область\"...</td>\n",
              "      <td>{\"salary_from\":100000.0,\"salary_to\":150000.0}</td>\n",
              "    </tr>\n",
              "    <tr>\n",
              "      <th>8</th>\n",
              "      <td>72125786</td>\n",
              "      <td>Менеджер по продажам</td>\n",
              "      <td>Менеджер по продажам, менеджер по работе с кли...</td>\n",
              "      <td>1-3</td>\n",
              "      <td>full_day</td>\n",
              "      <td>full</td>\n",
              "      <td>Мототека, филиал г.Томск</td>\n",
              "      <td>False</td>\n",
              "      <td>['Продажи', 'Коммуникативная грамотность', 'Гр...</td>\n",
              "      <td>{\"country\":\"Россия\",\"region\":\"Томская область\"...</td>\n",
              "      <td>{\"salary_from\":40000.0,\"salary_to\":95000.0}</td>\n",
              "    </tr>\n",
              "    <tr>\n",
              "      <th>9</th>\n",
              "      <td>72125979</td>\n",
              "      <td>Менеджер по продажам</td>\n",
              "      <td>Агент по недвижимости</td>\n",
              "      <td>0</td>\n",
              "      <td>full_day</td>\n",
              "      <td>full</td>\n",
              "      <td>ДомПлюс</td>\n",
              "      <td>False</td>\n",
              "      <td>['Продажи', 'Продажи', 'Коммуникативная грамот...</td>\n",
              "      <td>{\"country\":\"Россия\",\"region\":\"Томская область\"...</td>\n",
              "      <td>{\"salary_from\":80000.0,\"salary_to\":null}</td>\n",
              "    </tr>\n",
              "    <tr>\n",
              "      <th>10</th>\n",
              "      <td>72127032</td>\n",
              "      <td>Ведущий специалист обработки корреспонденции</td>\n",
              "      <td>Делопроизводитель, архивариус</td>\n",
              "      <td>0</td>\n",
              "      <td>full_day</td>\n",
              "      <td>full</td>\n",
              "      <td>МТС Банк</td>\n",
              "      <td>False</td>\n",
              "      <td>['Microsoft Outlook', 'Microsoft PowerPoint', ...</td>\n",
              "      <td>{\"country\":\"Россия\",\"region\":\"Томская область\"...</td>\n",
              "      <td>{\"salary_from\":null,\"salary_to\":null}</td>\n",
              "    </tr>\n",
              "    <tr>\n",
              "      <th>11</th>\n",
              "      <td>72127862</td>\n",
              "      <td>Ведущий инженер-сметчик</td>\n",
              "      <td>Инженер ПТО, инженер-сметчик</td>\n",
              "      <td>1-3</td>\n",
              "      <td>full_day</td>\n",
              "      <td>full</td>\n",
              "      <td>ОГКУ Облстройзаказчик</td>\n",
              "      <td>False</td>\n",
              "      <td>['ГРАНД-Смета', 'Ведение документооборота', 'В...</td>\n",
              "      <td>{\"country\":\"Россия\",\"region\":\"Томская область\"...</td>\n",
              "      <td>{\"salary_from\":42760.0,\"salary_to\":55000.0}</td>\n",
              "    </tr>\n",
              "    <tr>\n",
              "      <th>12</th>\n",
              "      <td>72127872</td>\n",
              "      <td>Ведущий инженер-сметчик</td>\n",
              "      <td>Инженер ПТО, инженер-сметчик</td>\n",
              "      <td>1-3</td>\n",
              "      <td>full_day</td>\n",
              "      <td>full</td>\n",
              "      <td>ОГКУ Облстройзаказчик</td>\n",
              "      <td>False</td>\n",
              "      <td>['ГРАНД-Смета', 'Ведение документооборота', 'В...</td>\n",
              "      <td>{\"country\":\"Россия\",\"region\":\"Томская область\"...</td>\n",
              "      <td>{\"salary_from\":42760.0,\"salary_to\":55000.0}</td>\n",
              "    </tr>\n",
              "    <tr>\n",
              "      <th>13</th>\n",
              "      <td>72127856</td>\n",
              "      <td>Ведущий инженер-сметчик</td>\n",
              "      <td>Инженер ПТО, инженер-сметчик</td>\n",
              "      <td>1-3</td>\n",
              "      <td>full_day</td>\n",
              "      <td>full</td>\n",
              "      <td>ОГКУ Облстройзаказчик</td>\n",
              "      <td>False</td>\n",
              "      <td>['ГРАНД-Смета', 'Ведение документооборота', 'В...</td>\n",
              "      <td>{\"country\":\"Россия\",\"region\":\"Томская область\"...</td>\n",
              "      <td>{\"salary_from\":42760.0,\"salary_to\":55000.0}</td>\n",
              "    </tr>\n",
              "    <tr>\n",
              "      <th>14</th>\n",
              "      <td>72127847</td>\n",
              "      <td>Ведущий инженер-сметчик</td>\n",
              "      <td>Инженер ПТО, инженер-сметчик</td>\n",
              "      <td>1-3</td>\n",
              "      <td>full_day</td>\n",
              "      <td>full</td>\n",
              "      <td>ОГКУ Облстройзаказчик</td>\n",
              "      <td>False</td>\n",
              "      <td>['ГРАНД-Смета', 'Ведение документооборота', 'В...</td>\n",
              "      <td>{\"country\":\"Россия\",\"region\":\"Томская область\"...</td>\n",
              "      <td>{\"salary_from\":42760.0,\"salary_to\":55000.0}</td>\n",
              "    </tr>\n",
              "  </tbody>\n",
              "</table>\n",
              "</div>\n",
              "    <div class=\"colab-df-buttons\">\n",
              "\n",
              "  <div class=\"colab-df-container\">\n",
              "    <button class=\"colab-df-convert\" onclick=\"convertToInteractive('df-8f720896-cf29-4197-bec3-ea4b0396c25f')\"\n",
              "            title=\"Convert this dataframe to an interactive table.\"\n",
              "            style=\"display:none;\">\n",
              "\n",
              "  <svg xmlns=\"http://www.w3.org/2000/svg\" height=\"24px\" viewBox=\"0 -960 960 960\">\n",
              "    <path d=\"M120-120v-720h720v720H120Zm60-500h600v-160H180v160Zm220 220h160v-160H400v160Zm0 220h160v-160H400v160ZM180-400h160v-160H180v160Zm440 0h160v-160H620v160ZM180-180h160v-160H180v160Zm440 0h160v-160H620v160Z\"/>\n",
              "  </svg>\n",
              "    </button>\n",
              "\n",
              "  <style>\n",
              "    .colab-df-container {\n",
              "      display:flex;\n",
              "      gap: 12px;\n",
              "    }\n",
              "\n",
              "    .colab-df-convert {\n",
              "      background-color: #E8F0FE;\n",
              "      border: none;\n",
              "      border-radius: 50%;\n",
              "      cursor: pointer;\n",
              "      display: none;\n",
              "      fill: #1967D2;\n",
              "      height: 32px;\n",
              "      padding: 0 0 0 0;\n",
              "      width: 32px;\n",
              "    }\n",
              "\n",
              "    .colab-df-convert:hover {\n",
              "      background-color: #E2EBFA;\n",
              "      box-shadow: 0px 1px 2px rgba(60, 64, 67, 0.3), 0px 1px 3px 1px rgba(60, 64, 67, 0.15);\n",
              "      fill: #174EA6;\n",
              "    }\n",
              "\n",
              "    .colab-df-buttons div {\n",
              "      margin-bottom: 4px;\n",
              "    }\n",
              "\n",
              "    [theme=dark] .colab-df-convert {\n",
              "      background-color: #3B4455;\n",
              "      fill: #D2E3FC;\n",
              "    }\n",
              "\n",
              "    [theme=dark] .colab-df-convert:hover {\n",
              "      background-color: #434B5C;\n",
              "      box-shadow: 0px 1px 3px 1px rgba(0, 0, 0, 0.15);\n",
              "      filter: drop-shadow(0px 1px 2px rgba(0, 0, 0, 0.3));\n",
              "      fill: #FFFFFF;\n",
              "    }\n",
              "  </style>\n",
              "\n",
              "    <script>\n",
              "      const buttonEl =\n",
              "        document.querySelector('#df-8f720896-cf29-4197-bec3-ea4b0396c25f button.colab-df-convert');\n",
              "      buttonEl.style.display =\n",
              "        google.colab.kernel.accessAllowed ? 'block' : 'none';\n",
              "\n",
              "      async function convertToInteractive(key) {\n",
              "        const element = document.querySelector('#df-8f720896-cf29-4197-bec3-ea4b0396c25f');\n",
              "        const dataTable =\n",
              "          await google.colab.kernel.invokeFunction('convertToInteractive',\n",
              "                                                    [key], {});\n",
              "        if (!dataTable) return;\n",
              "\n",
              "        const docLinkHtml = 'Like what you see? Visit the ' +\n",
              "          '<a target=\"_blank\" href=https://colab.research.google.com/notebooks/data_table.ipynb>data table notebook</a>'\n",
              "          + ' to learn more about interactive tables.';\n",
              "        element.innerHTML = '';\n",
              "        dataTable['output_type'] = 'display_data';\n",
              "        await google.colab.output.renderOutput(dataTable, element);\n",
              "        const docLink = document.createElement('div');\n",
              "        docLink.innerHTML = docLinkHtml;\n",
              "        element.appendChild(docLink);\n",
              "      }\n",
              "    </script>\n",
              "  </div>\n",
              "\n",
              "\n",
              "    <div id=\"df-df8a75ef-ad56-40b8-9960-632c5a10b443\">\n",
              "      <button class=\"colab-df-quickchart\" onclick=\"quickchart('df-df8a75ef-ad56-40b8-9960-632c5a10b443')\"\n",
              "                title=\"Suggest charts\"\n",
              "                style=\"display:none;\">\n",
              "\n",
              "<svg xmlns=\"http://www.w3.org/2000/svg\" height=\"24px\"viewBox=\"0 0 24 24\"\n",
              "     width=\"24px\">\n",
              "    <g>\n",
              "        <path d=\"M19 3H5c-1.1 0-2 .9-2 2v14c0 1.1.9 2 2 2h14c1.1 0 2-.9 2-2V5c0-1.1-.9-2-2-2zM9 17H7v-7h2v7zm4 0h-2V7h2v10zm4 0h-2v-4h2v4z\"/>\n",
              "    </g>\n",
              "</svg>\n",
              "      </button>\n",
              "\n",
              "<style>\n",
              "  .colab-df-quickchart {\n",
              "      --bg-color: #E8F0FE;\n",
              "      --fill-color: #1967D2;\n",
              "      --hover-bg-color: #E2EBFA;\n",
              "      --hover-fill-color: #174EA6;\n",
              "      --disabled-fill-color: #AAA;\n",
              "      --disabled-bg-color: #DDD;\n",
              "  }\n",
              "\n",
              "  [theme=dark] .colab-df-quickchart {\n",
              "      --bg-color: #3B4455;\n",
              "      --fill-color: #D2E3FC;\n",
              "      --hover-bg-color: #434B5C;\n",
              "      --hover-fill-color: #FFFFFF;\n",
              "      --disabled-bg-color: #3B4455;\n",
              "      --disabled-fill-color: #666;\n",
              "  }\n",
              "\n",
              "  .colab-df-quickchart {\n",
              "    background-color: var(--bg-color);\n",
              "    border: none;\n",
              "    border-radius: 50%;\n",
              "    cursor: pointer;\n",
              "    display: none;\n",
              "    fill: var(--fill-color);\n",
              "    height: 32px;\n",
              "    padding: 0;\n",
              "    width: 32px;\n",
              "  }\n",
              "\n",
              "  .colab-df-quickchart:hover {\n",
              "    background-color: var(--hover-bg-color);\n",
              "    box-shadow: 0 1px 2px rgba(60, 64, 67, 0.3), 0 1px 3px 1px rgba(60, 64, 67, 0.15);\n",
              "    fill: var(--button-hover-fill-color);\n",
              "  }\n",
              "\n",
              "  .colab-df-quickchart-complete:disabled,\n",
              "  .colab-df-quickchart-complete:disabled:hover {\n",
              "    background-color: var(--disabled-bg-color);\n",
              "    fill: var(--disabled-fill-color);\n",
              "    box-shadow: none;\n",
              "  }\n",
              "\n",
              "  .colab-df-spinner {\n",
              "    border: 2px solid var(--fill-color);\n",
              "    border-color: transparent;\n",
              "    border-bottom-color: var(--fill-color);\n",
              "    animation:\n",
              "      spin 1s steps(1) infinite;\n",
              "  }\n",
              "\n",
              "  @keyframes spin {\n",
              "    0% {\n",
              "      border-color: transparent;\n",
              "      border-bottom-color: var(--fill-color);\n",
              "      border-left-color: var(--fill-color);\n",
              "    }\n",
              "    20% {\n",
              "      border-color: transparent;\n",
              "      border-left-color: var(--fill-color);\n",
              "      border-top-color: var(--fill-color);\n",
              "    }\n",
              "    30% {\n",
              "      border-color: transparent;\n",
              "      border-left-color: var(--fill-color);\n",
              "      border-top-color: var(--fill-color);\n",
              "      border-right-color: var(--fill-color);\n",
              "    }\n",
              "    40% {\n",
              "      border-color: transparent;\n",
              "      border-right-color: var(--fill-color);\n",
              "      border-top-color: var(--fill-color);\n",
              "    }\n",
              "    60% {\n",
              "      border-color: transparent;\n",
              "      border-right-color: var(--fill-color);\n",
              "    }\n",
              "    80% {\n",
              "      border-color: transparent;\n",
              "      border-right-color: var(--fill-color);\n",
              "      border-bottom-color: var(--fill-color);\n",
              "    }\n",
              "    90% {\n",
              "      border-color: transparent;\n",
              "      border-bottom-color: var(--fill-color);\n",
              "    }\n",
              "  }\n",
              "</style>\n",
              "\n",
              "      <script>\n",
              "        async function quickchart(key) {\n",
              "          const quickchartButtonEl =\n",
              "            document.querySelector('#' + key + ' button');\n",
              "          quickchartButtonEl.disabled = true;  // To prevent multiple clicks.\n",
              "          quickchartButtonEl.classList.add('colab-df-spinner');\n",
              "          try {\n",
              "            const charts = await google.colab.kernel.invokeFunction(\n",
              "                'suggestCharts', [key], {});\n",
              "          } catch (error) {\n",
              "            console.error('Error during call to suggestCharts:', error);\n",
              "          }\n",
              "          quickchartButtonEl.classList.remove('colab-df-spinner');\n",
              "          quickchartButtonEl.classList.add('colab-df-quickchart-complete');\n",
              "        }\n",
              "        (() => {\n",
              "          let quickchartButtonEl =\n",
              "            document.querySelector('#df-df8a75ef-ad56-40b8-9960-632c5a10b443 button');\n",
              "          quickchartButtonEl.style.display =\n",
              "            google.colab.kernel.accessAllowed ? 'block' : 'none';\n",
              "        })();\n",
              "      </script>\n",
              "    </div>\n",
              "    </div>\n",
              "  </div>\n"
            ],
            "application/vnd.google.colaboratory.intrinsic+json": {
              "type": "dataframe",
              "variable_name": "dataset",
              "summary": "{\n  \"name\": \"dataset\",\n  \"rows\": 20178,\n  \"fields\": [\n    {\n      \"column\": \"id\",\n      \"properties\": {\n        \"dtype\": \"number\",\n        \"std\": 11327214,\n        \"min\": 29650764,\n        \"max\": 97984765,\n        \"num_unique_values\": 20000,\n        \"samples\": [\n          86163341,\n          68541012,\n          66928986\n        ],\n        \"semantic_type\": \"\",\n        \"description\": \"\"\n      }\n    },\n    {\n      \"column\": \"name\",\n      \"properties\": {\n        \"dtype\": \"string\",\n        \"num_unique_values\": 10207,\n        \"samples\": [\n          \"\\u041e\\u043f\\u0435\\u0440\\u0430\\u0442\\u043e\\u0440 \\u043a\\u043e\\u043d\\u0442\\u0430\\u043a\\u0442\\u043d\\u043e\\u0433\\u043e \\u0446\\u0435\\u043d\\u0442\\u0440\\u0430 \\u0432 \\u043c\\u0435\\u0434\\u0438\\u0446\\u0438\\u043d\\u0441\\u043a\\u0438\\u0439 \\u0446\\u0435\\u043d\\u0442\\u0440\",\n          \"\\u0421\\u0442\\u0430\\u0436\\u0435\\u0440 \\u0441\\u043f\\u0435\\u0446\\u0438\\u0430\\u043b\\u0438\\u0441\\u0442\\u0430 (\\u043e\\u0442\\u0434\\u0435\\u043b \\u0410\\u043d\\u0430\\u043b\\u0438\\u0442\\u0438\\u0447\\u0435\\u0441\\u043a\\u043e\\u0433\\u043e \\u0441\\u043e\\u043f\\u0440\\u043e\\u0432\\u043e\\u0436\\u0434\\u0435\\u043d\\u0438\\u044f \\u041d\\u0418\\u041e\\u041a\\u0420)\",\n          \"\\u041d\\u0430\\u043b\\u0430\\u0434\\u0447\\u0438\\u043a \\u0441\\u0442\\u0430\\u043d\\u043a\\u043e\\u0432 \\u0438 \\u043c\\u0430\\u043d\\u0438\\u043f\\u0443\\u043b\\u044f\\u0442\\u043e\\u0440\\u043e\\u0432 \\u0441 \\u043f\\u0440\\u043e\\u0433\\u0440\\u0430\\u043c\\u043c\\u043d\\u044b\\u043c \\u0443\\u043f\\u0440\\u0430\\u0432\\u043b\\u0435\\u043d\\u0438\\u0435\\u043c 3 - 6 \\u0440\\u0430\\u0437\\u0440\\u044f\\u0434\"\n        ],\n        \"semantic_type\": \"\",\n        \"description\": \"\"\n      }\n    },\n    {\n      \"column\": \"professional_roles\",\n      \"properties\": {\n        \"dtype\": \"category\",\n        \"num_unique_values\": 171,\n        \"samples\": [\n          \"\\u0424\\u0438\\u043d\\u0430\\u043d\\u0441\\u043e\\u0432\\u044b\\u0439 \\u043a\\u043e\\u043d\\u0442\\u0440\\u043e\\u043b\\u0435\\u0440\",\n          \"SMM-\\u043c\\u0435\\u043d\\u0435\\u0434\\u0436\\u0435\\u0440, \\u043a\\u043e\\u043d\\u0442\\u0435\\u043d\\u0442-\\u043c\\u0435\\u043d\\u0435\\u0434\\u0436\\u0435\\u0440\",\n          \"\\u041c\\u0435\\u043d\\u0435\\u0434\\u0436\\u0435\\u0440 \\u043f\\u043e \\u0437\\u0430\\u043a\\u0443\\u043f\\u043a\\u0430\\u043c\"\n        ],\n        \"semantic_type\": \"\",\n        \"description\": \"\"\n      }\n    },\n    {\n      \"column\": \"experience\",\n      \"properties\": {\n        \"dtype\": \"category\",\n        \"num_unique_values\": 4,\n        \"samples\": [\n          \"0\",\n          \"6-\",\n          \"1-3\"\n        ],\n        \"semantic_type\": \"\",\n        \"description\": \"\"\n      }\n    },\n    {\n      \"column\": \"schedule\",\n      \"properties\": {\n        \"dtype\": \"category\",\n        \"num_unique_values\": 5,\n        \"samples\": [\n          \"shift\",\n          \"flexible\",\n          \"remote\"\n        ],\n        \"semantic_type\": \"\",\n        \"description\": \"\"\n      }\n    },\n    {\n      \"column\": \"employment\",\n      \"properties\": {\n        \"dtype\": \"category\",\n        \"num_unique_values\": 4,\n        \"samples\": [\n          \"part\",\n          \"probation\",\n          \"full\"\n        ],\n        \"semantic_type\": \"\",\n        \"description\": \"\"\n      }\n    },\n    {\n      \"column\": \"employer\",\n      \"properties\": {\n        \"dtype\": \"category\",\n        \"num_unique_values\": 4394,\n        \"samples\": [\n          \"\\u0413\\u0411\\u0423\\u0417 \\u0421\\u041e \\u0410\\u0447\\u0438\\u0442\\u0441\\u043a\\u0430\\u044f \\u0426\\u0420\\u0411\",\n          \"\\u0427\\u041e\\u041f \\u041d\\u0430\\u0431\\u0430\\u0442\",\n          \"Luna-Print\"\n        ],\n        \"semantic_type\": \"\",\n        \"description\": \"\"\n      }\n    },\n    {\n      \"column\": \"accept_handicapped\",\n      \"properties\": {\n        \"dtype\": \"boolean\",\n        \"num_unique_values\": 2,\n        \"samples\": [\n          true,\n          false\n        ],\n        \"semantic_type\": \"\",\n        \"description\": \"\"\n      }\n    },\n    {\n      \"column\": \"key_skills\",\n      \"properties\": {\n        \"dtype\": \"string\",\n        \"num_unique_values\": 11476,\n        \"samples\": [\n          \"['1\\u0421: \\u041f\\u0440\\u0435\\u0434\\u043f\\u0440\\u0438\\u044f\\u0442\\u0438\\u0435', '\\u041a\\u043e\\u043c\\u043c\\u0443\\u043d\\u0438\\u043a\\u0430\\u0442\\u0438\\u0432\\u043d\\u0430\\u044f \\u0433\\u0440\\u0430\\u043c\\u043e\\u0442\\u043d\\u043e\\u0441\\u0442\\u044c', '\\u041f\\u0440\\u043e\\u0432\\u0435\\u0434\\u0435\\u043d\\u0438\\u0435 \\u0437\\u0430\\u043a\\u0443\\u043f\\u043e\\u043a', '\\u041f\\u0440\\u043e\\u0432\\u0435\\u0434\\u0435\\u043d\\u0438\\u0435 \\u0437\\u0430\\u043a\\u0443\\u043f\\u043e\\u043a', '\\u041f\\u0440\\u043e\\u0432\\u0435\\u0434\\u0435\\u043d\\u0438\\u0435 \\u0437\\u0430\\u043a\\u0443\\u043f\\u043e\\u043a', '\\u041f\\u0440\\u043e\\u0432\\u0435\\u0434\\u0435\\u043d\\u0438\\u0435 \\u0437\\u0430\\u043a\\u0443\\u043f\\u043e\\u043a', '\\u041f\\u0440\\u043e\\u0432\\u0435\\u0434\\u0435\\u043d\\u0438\\u0435 \\u0437\\u0430\\u043a\\u0443\\u043f\\u043e\\u043a']\",\n          \"['\\u0412\\u0437\\u0430\\u0438\\u043c\\u043e\\u0434\\u0435\\u0439\\u0441\\u0442\\u0432\\u0438\\u0435 \\u0441 \\u0433\\u043e\\u0441\\u0443\\u0434\\u0430\\u0440\\u0441\\u0442\\u0432\\u0435\\u043d\\u043d\\u044b\\u043c\\u0438 \\u043a\\u043e\\u043d\\u0442\\u0440\\u043e\\u043b\\u0438\\u0440\\u0443\\u044e\\u0449\\u0438\\u043c\\u0438 \\u043e\\u0440\\u0433\\u0430\\u043d\\u0430\\u043c\\u0438', '\\u041a\\u043e\\u043c\\u043c\\u0443\\u043d\\u0438\\u043a\\u0430\\u0442\\u0438\\u0432\\u043d\\u0430\\u044f \\u0433\\u0440\\u0430\\u043c\\u043e\\u0442\\u043d\\u043e\\u0441\\u0442\\u044c', '\\u0418\\u0441\\u043f\\u043e\\u043b\\u044c\\u0437\\u043e\\u0432\\u0430\\u043d\\u0438\\u0435 \\u043f\\u0440\\u0430\\u0432\\u043e\\u0432\\u043e\\u0439 \\u043f\\u043e\\u0434\\u0434\\u0435\\u0440\\u0436\\u043a\\u0438', '\\u0412\\u0435\\u0434\\u0435\\u043d\\u0438\\u0435 \\u0434\\u043e\\u043a\\u0443\\u043c\\u0435\\u043d\\u0442\\u043e\\u043e\\u0431\\u043e\\u0440\\u043e\\u0442\\u0430', '\\u0420\\u0430\\u0431\\u043e\\u0442\\u0430 \\u0441 \\u0434\\u043e\\u043a\\u0443\\u043c\\u0435\\u043d\\u0442\\u0430\\u043c\\u0438']\"\n        ],\n        \"semantic_type\": \"\",\n        \"description\": \"\"\n      }\n    },\n    {\n      \"column\": \"area\",\n      \"properties\": {\n        \"dtype\": \"category\",\n        \"num_unique_values\": 42,\n        \"samples\": [\n          \"{\\\"country\\\":\\\"\\u0420\\u043e\\u0441\\u0441\\u0438\\u044f\\\",\\\"region\\\":\\\"\\u0422\\u043e\\u043c\\u0441\\u043a\\u0430\\u044f \\u043e\\u0431\\u043b\\u0430\\u0441\\u0442\\u044c\\\",\\\"district\\\":\\\"\\u0421\\u0438\\u0431\\u0438\\u0440\\u0441\\u043a\\u0438\\u0439\\\",\\\"city\\\":\\\"\\u0422\\u0435\\u0433\\u0443\\u043b\\u044c\\u0434\\u0435\\u0442\\\"}\",\n          \"{\\\"country\\\":\\\"\\u0420\\u043e\\u0441\\u0441\\u0438\\u044f\\\",\\\"region\\\":\\\"\\u0422\\u043e\\u043c\\u0441\\u043a\\u0430\\u044f \\u043e\\u0431\\u043b\\u0430\\u0441\\u0442\\u044c\\\",\\\"district\\\":\\\"\\u0421\\u0438\\u0431\\u0438\\u0440\\u0441\\u043a\\u0438\\u0439\\\",\\\"city\\\":\\\"\\u041a\\u0438\\u0441\\u043b\\u043e\\u0432\\u043a\\u0430\\\"}\"\n        ],\n        \"semantic_type\": \"\",\n        \"description\": \"\"\n      }\n    },\n    {\n      \"column\": \"salary\",\n      \"properties\": {\n        \"dtype\": \"category\",\n        \"num_unique_values\": 2268,\n        \"samples\": [\n          \"{\\\"salary_from\\\":124000.0,\\\"salary_to\\\":180000.0}\",\n          \"{\\\"salary_from\\\":102000.0,\\\"salary_to\\\":102000.0}\"\n        ],\n        \"semantic_type\": \"\",\n        \"description\": \"\"\n      }\n    }\n  ]\n}"
            }
          },
          "metadata": {},
          "execution_count": 270
        }
      ],
      "source": [
        "dataset.head(15)"
      ]
    },
    {
      "cell_type": "markdown",
      "metadata": {
        "id": "59H3QA0VA4QA"
      },
      "source": [
        "Просмотрим информацию о датасете"
      ]
    },
    {
      "cell_type": "code",
      "execution_count": null,
      "metadata": {
        "colab": {
          "base_uri": "https://localhost:8080/"
        },
        "id": "9r2PgVi9BDpd",
        "outputId": "c6a85bc1-011d-42cc-e8e3-a4f3284e561e"
      },
      "outputs": [
        {
          "output_type": "stream",
          "name": "stdout",
          "text": [
            "<class 'pandas.core.frame.DataFrame'>\n",
            "RangeIndex: 20178 entries, 0 to 20177\n",
            "Data columns (total 11 columns):\n",
            " #   Column              Non-Null Count  Dtype \n",
            "---  ------              --------------  ----- \n",
            " 0   id                  20178 non-null  int64 \n",
            " 1   name                20178 non-null  object\n",
            " 2   professional_roles  20178 non-null  object\n",
            " 3   experience          20178 non-null  object\n",
            " 4   schedule            20178 non-null  object\n",
            " 5   employment          20178 non-null  object\n",
            " 6   employer            20178 non-null  object\n",
            " 7   accept_handicapped  20178 non-null  bool  \n",
            " 8   key_skills          20178 non-null  object\n",
            " 9   area                20178 non-null  object\n",
            " 10  salary              20178 non-null  object\n",
            "dtypes: bool(1), int64(1), object(9)\n",
            "memory usage: 1.6+ MB\n"
          ]
        }
      ],
      "source": [
        "dataset.info()"
      ]
    },
    {
      "cell_type": "markdown",
      "metadata": {
        "id": "kZN8fpdkCmlp"
      },
      "source": [
        "Информация, содержащаяся в датасете:\n",
        "  \n",
        "  - идентификатор вакансии (id)\n",
        "\n",
        "  - наименование вакансии (name)\n",
        "\n",
        "  - профессиональная роль (professional roles)\n",
        "\n",
        "  - регион (area), в т.ч. страна (country), регион (region), округ (district), город(city)\n",
        "\n",
        "  - заработная плата (salary), в т.ч. минимальная заработная плат (salary_from), максимальная заработная плата (salary_to)\n",
        "\n",
        "  - опыт работы (experience)\n",
        "\n",
        "  - график работы (schedule)\n",
        "\n",
        "  - тип занятости (employment)\n",
        "\n",
        "  - наименование работодателя (employer)\n",
        "\n",
        "  - доступна ли вакансия для соискателей с инвалидностью (accept_handicapped)\n",
        "  \n",
        "  - ключевые навыки (key_skills)"
      ]
    },
    {
      "cell_type": "markdown",
      "metadata": {
        "id": "gSGn-cr8J5o9"
      },
      "source": [
        "Оценим размеры датасета"
      ]
    },
    {
      "cell_type": "code",
      "execution_count": null,
      "metadata": {
        "colab": {
          "base_uri": "https://localhost:8080/"
        },
        "id": "vYU6jG-mKBxz",
        "outputId": "91bc1457-289e-4133-d0bc-4f5dfb1c7452"
      },
      "outputs": [
        {
          "output_type": "execute_result",
          "data": {
            "text/plain": [
              "(20178, 11)"
            ]
          },
          "metadata": {},
          "execution_count": 272
        }
      ],
      "source": [
        "dataset.shape"
      ]
    },
    {
      "cell_type": "markdown",
      "metadata": {
        "id": "fkh6BpB4L1WW"
      },
      "source": [
        "Оценим наличие полных дубликатов в датасете"
      ]
    },
    {
      "cell_type": "code",
      "execution_count": null,
      "metadata": {
        "colab": {
          "base_uri": "https://localhost:8080/"
        },
        "id": "zW47XD9SLjOU",
        "outputId": "65671dc9-99be-4c85-9157-9c5489166624"
      },
      "outputs": [
        {
          "output_type": "execute_result",
          "data": {
            "text/plain": [
              "np.int64(356)"
            ]
          },
          "metadata": {},
          "execution_count": 273
        }
      ],
      "source": [
        "dataset.duplicated(keep=False).sum()"
      ]
    },
    {
      "cell_type": "markdown",
      "metadata": {
        "id": "USvfsCisNB-d"
      },
      "source": [
        "Оценим наличие пропущенных значений в датасете"
      ]
    },
    {
      "cell_type": "code",
      "execution_count": null,
      "metadata": {
        "colab": {
          "base_uri": "https://localhost:8080/"
        },
        "id": "igUmgOQTN6H0",
        "outputId": "1c7a7a0f-f2c6-4829-82f0-7e6cd1fb838d"
      },
      "outputs": [
        {
          "output_type": "execute_result",
          "data": {
            "text/plain": [
              "id                    0\n",
              "name                  0\n",
              "professional_roles    0\n",
              "experience            0\n",
              "schedule              0\n",
              "employment            0\n",
              "employer              0\n",
              "accept_handicapped    0\n",
              "key_skills            0\n",
              "area                  0\n",
              "salary                0\n",
              "dtype: int64"
            ],
            "text/html": [
              "<div>\n",
              "<style scoped>\n",
              "    .dataframe tbody tr th:only-of-type {\n",
              "        vertical-align: middle;\n",
              "    }\n",
              "\n",
              "    .dataframe tbody tr th {\n",
              "        vertical-align: top;\n",
              "    }\n",
              "\n",
              "    .dataframe thead th {\n",
              "        text-align: right;\n",
              "    }\n",
              "</style>\n",
              "<table border=\"1\" class=\"dataframe\">\n",
              "  <thead>\n",
              "    <tr style=\"text-align: right;\">\n",
              "      <th></th>\n",
              "      <th>0</th>\n",
              "    </tr>\n",
              "  </thead>\n",
              "  <tbody>\n",
              "    <tr>\n",
              "      <th>id</th>\n",
              "      <td>0</td>\n",
              "    </tr>\n",
              "    <tr>\n",
              "      <th>name</th>\n",
              "      <td>0</td>\n",
              "    </tr>\n",
              "    <tr>\n",
              "      <th>professional_roles</th>\n",
              "      <td>0</td>\n",
              "    </tr>\n",
              "    <tr>\n",
              "      <th>experience</th>\n",
              "      <td>0</td>\n",
              "    </tr>\n",
              "    <tr>\n",
              "      <th>schedule</th>\n",
              "      <td>0</td>\n",
              "    </tr>\n",
              "    <tr>\n",
              "      <th>employment</th>\n",
              "      <td>0</td>\n",
              "    </tr>\n",
              "    <tr>\n",
              "      <th>employer</th>\n",
              "      <td>0</td>\n",
              "    </tr>\n",
              "    <tr>\n",
              "      <th>accept_handicapped</th>\n",
              "      <td>0</td>\n",
              "    </tr>\n",
              "    <tr>\n",
              "      <th>key_skills</th>\n",
              "      <td>0</td>\n",
              "    </tr>\n",
              "    <tr>\n",
              "      <th>area</th>\n",
              "      <td>0</td>\n",
              "    </tr>\n",
              "    <tr>\n",
              "      <th>salary</th>\n",
              "      <td>0</td>\n",
              "    </tr>\n",
              "  </tbody>\n",
              "</table>\n",
              "</div><br><label><b>dtype:</b> int64</label>"
            ]
          },
          "metadata": {},
          "execution_count": 274
        }
      ],
      "source": [
        "dataset.isnull().sum()"
      ]
    },
    {
      "cell_type": "markdown",
      "metadata": {
        "id": "5TKYcwZVfSRV"
      },
      "source": [
        "Выводы по предварительному осмотру:\n",
        "\n",
        "* **О размерах датасета**:\n",
        "\n",
        "  20178 строк (наблюдений), 11 столбцов (признаков)\n",
        "\n",
        "* **О типах данных**:\n",
        "\n",
        "  - Количественные признаки:\n",
        "\n",
        "    * идентификатор вакансии (id)\n",
        "\n",
        "    * заработная плата (salary)\n",
        "\n",
        "  - Категориальные признаки:\n",
        "\n",
        "    * наименование вакансии (name)\n",
        "\n",
        "    * профессиональная роль (professional roles)\n",
        "\n",
        "    * регион (area)\n",
        "\n",
        "    * опыт работы (experience)\n",
        "\n",
        "    * график работы (schedule)\n",
        "\n",
        "    * тип занятости (employment)\n",
        "\n",
        "    * наименование работодателя (employer)\n",
        "\n",
        "    * доступна ли вакансия для соискателей с инвалидностью (accept_handicapped)\n",
        "\n",
        "    * ключевые навыки (key_skills)\n",
        "\n",
        "\n",
        "* **О дубликатах**:\n",
        "\n",
        "  - Присутствуют полные дубликаты\n",
        "\n",
        "\n",
        "* **О пропущенных значениях:**\n",
        "\n",
        "  - Пропущенных значений нет ни в одном из признаков\n",
        "\n",
        "  - Возможно на этапе обработки признаков появятся нулевые значения там, где их быть не должно"
      ]
    }
  ]
}